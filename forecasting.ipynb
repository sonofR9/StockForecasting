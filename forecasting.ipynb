{
  "nbformat": 4,
  "nbformat_minor": 0,
  "metadata": {
    "colab": {
      "name": "forecasting.ipynb",
      "provenance": [],
      "collapsed_sections": []
    },
    "kernelspec": {
      "name": "python3",
      "display_name": "Python 3"
    },
    "language_info": {
      "name": "python"
    },
    "accelerator": "GPU"
  },
  "cells": [
    {
      "cell_type": "code",
      "execution_count": null,
      "metadata": {
        "id": "q7A-Hymz4mUA"
      },
      "outputs": [],
      "source": [
        "import csv\n",
        "import numpy as np\n",
        "import matplotlib.pyplot as plt\n",
        "import tensorflow as tf\n",
        "from tensorflow import keras\n",
        "from tensorflow.keras import layers"
      ]
    },
    {
      "cell_type": "code",
      "source": [
        "from tensorflow.keras.layers import Conv1D, LSTM, Dense, Dropout, Bidirectional, TimeDistributed\n",
        "from tensorflow.keras.layers import MaxPooling1D, Flatten\n",
        "from tensorflow.keras.regularizers import L1, L2\n",
        "from tensorflow.keras.metrics import Accuracy\n",
        "from tensorflow.keras.metrics import RootMeanSquaredError"
      ],
      "metadata": {
        "id": "2ILFvtWzVtKe"
      },
      "execution_count": null,
      "outputs": []
    },
    {
      "cell_type": "code",
      "source": [
        "with open('/content/drive/MyDrive/Colab Notebooks/output_data.csv', newline='') as f:\n",
        "    reader = csv.reader(f, delimiter=';')\n",
        "    i=0\n",
        "    for row in reader:\n",
        "        i+=1\n",
        "    length_of_data=i+1\n",
        "with open('/content/drive/MyDrive/Colab Notebooks/output_data.csv', newline='') as f:\n",
        "    reader = csv.reader(f, delimiter=';')\n",
        "    #x_train=np.zeros((length_of_data-1,140),np.float32)\n",
        "    i=0\n",
        "    row1=[None]*100\n",
        "    x_train=[]\n",
        "    for row in reader:\n",
        "        j=40\n",
        "        while j <len(row):\n",
        "            row1[j-40]=np.float32(row[j])\n",
        "            j+=1\n",
        "        x_train.append(row1.copy())\n",
        "        i+=1\n",
        "with open('/content/drive/MyDrive/Colab Notebooks/output_labels_forecasting.csv', newline='') as f:\n",
        "    reader = csv.reader(f, delimiter=';')\n",
        "    #y_train=np.zeros((length_of_data-1,3),np.float32)\n",
        "    i=0\n",
        "    j=0\n",
        "    y_train=[]\n",
        "    row1=[None]*3\n",
        "    for row in reader:\n",
        "        j=0\n",
        "        for j in range(3):\n",
        "            row1[j]=np.float32(row[j])\n",
        "        y_train.append(row1.copy())\n",
        "        i+=1\n",
        "print('shape x:',np.shape(x_train),'shape y:', np.shape(y_train))"
      ],
      "metadata": {
        "colab": {
          "base_uri": "https://localhost:8080/"
        },
        "id": "CC2xLZDf8ohP",
        "outputId": "55847837-1536-4eec-a58e-5d9280b16214"
      },
      "execution_count": null,
      "outputs": [
        {
          "output_type": "stream",
          "name": "stdout",
          "text": [
            "shape x: (126957, 100) shape y: (126917, 3)\n"
          ]
        }
      ]
    },
    {
      "cell_type": "code",
      "source": [
        "fo_fur=[]\n",
        "for row in x_train:\n",
        "  fo_fur.append(row[0].copy())\n",
        "\n",
        "fft = tf.signal.rfft(fo_fur)\n",
        "f_per_dataset = np.arange(0, len(fft))\n",
        "\n",
        "n_samples_h = len(fo_fur)\n",
        "minutes_per_year = 60*24*365.2524\n",
        "years_per_dataset = n_samples_h/(minutes_per_year)\n",
        "\n",
        "f_per_year = f_per_dataset/years_per_dataset\n",
        "plt.step(f_per_year, np.abs(fft))\n",
        "plt.xscale('log')\n",
        "plt.ylim(0, 5)\n",
        "plt.xlim([0.1, max(plt.xlim())])\n",
        "plt.xticks([1, 365.2524], labels=['1/Year', '1/day'])\n",
        "_ = plt.xlabel('Frequency (log scale)')\n"
      ],
      "metadata": {
        "id": "u37f-7kfylMy"
      },
      "execution_count": null,
      "outputs": []
    },
    {
      "cell_type": "code",
      "source": [
        "print(fo_fur[0:10])"
      ],
      "metadata": {
        "colab": {
          "base_uri": "https://localhost:8080/"
        },
        "id": "gUjZ1-f3y6RG",
        "outputId": "553c387c-e96f-42fa-fbce-f19fdc064db3"
      },
      "execution_count": null,
      "outputs": [
        {
          "output_type": "stream",
          "name": "stdout",
          "text": [
            "[1.0414605, 1.0415388, 1.0428774, 1.03419, 1.0370721, 1.0346698, 1.0354108, 1.0381526, 1.037037, 1.0386205]\n"
          ]
        }
      ]
    },
    {
      "cell_type": "code",
      "source": [
        "np.reshape(x_train, (np.shape(x_train)[0],np.shape(x_train)[1],1))\n",
        "np.reshape(y_train, (np.shape(y_train)[0],np.shape(y_train)[1],1))\n",
        "print('shape x:',np.shape(x_train),'shape y:', np.shape(y_train))"
      ],
      "metadata": {
        "colab": {
          "base_uri": "https://localhost:8080/"
        },
        "id": "FdlADEs6sm2K",
        "outputId": "80cf992d-a096-40bd-e20a-e6722ab24334"
      },
      "execution_count": null,
      "outputs": [
        {
          "output_type": "stream",
          "name": "stdout",
          "text": [
            "shape x: (126957, 140) shape y: (126957, 2)\n"
          ]
        }
      ]
    },
    {
      "cell_type": "code",
      "source": [
        "batch_size = 16\n",
        "print(np.shape(x_train))\n",
        "# Reserve 1000 samples for validation.\n",
        "x_val = x_train[-3040:-1040][:]\n",
        "y_val = y_train[-3000:-1000][:]\n",
        "x_test=x_train[-1040:-40][:]\n",
        "y_test=y_train[-1000:][:]\n",
        "x_train1 = x_train[:50000][:]\n",
        "y_train1 = y_train[:50000][:]\n",
        "\n",
        "train_dataset = tf.data.Dataset.from_tensor_slices((x_train1, y_train1))\n",
        "train_dataset = train_dataset.batch(batch_size)\n",
        "val_dataset = tf.data.Dataset.from_tensor_slices((x_val, y_val))\n",
        "val_dataset = val_dataset.batch(batch_size)\n",
        "test_dataset = tf.data.Dataset.from_tensor_slices((x_test, y_test))\n",
        "test_dataset = test_dataset.batch(batch_size)"
      ],
      "metadata": {
        "colab": {
          "base_uri": "https://localhost:8080/"
        },
        "id": "8XgJcDy_9jg4",
        "outputId": "3bdb6c27-d515-4e9c-d8a7-25b340c06403"
      },
      "execution_count": null,
      "outputs": [
        {
          "output_type": "stream",
          "name": "stdout",
          "text": [
            "(126957, 100)\n"
          ]
        }
      ]
    },
    {
      "cell_type": "code",
      "source": [
        "buff1=0\n",
        "for i in range(20000):\n",
        "  buff=0\n",
        "  for j in range (3):\n",
        "    buff=buff+abs(y_train1[i][j]-1.0)\n",
        "  buff1=buff1+buff/3\n",
        "print(buff1/20000)"
      ],
      "metadata": {
        "colab": {
          "base_uri": "https://localhost:8080/"
        },
        "id": "gtldvnWHzSTf",
        "outputId": "358f6141-b094-4790-9ed3-380142a63bb7"
      },
      "execution_count": null,
      "outputs": [
        {
          "output_type": "stream",
          "name": "stdout",
          "text": [
            "0.000813898895184197\n"
          ]
        }
      ]
    },
    {
      "cell_type": "code",
      "source": [
        "model = tf.keras.Sequential()\n",
        "model.add(tf.keras.layers.Reshape((100, 1)))\n",
        "model.add(Conv1D(64, kernel_size=3, activation='relu', input_shape=(None, 100, 1)))\n",
        "model.add(MaxPooling1D(2))\n",
        "model.add(Conv1D(128, kernel_size=3, activation='relu'))\n",
        "model.add(MaxPooling1D(2))\n",
        "model.add(Conv1D(64, kernel_size=3, activation='relu'))\n",
        "model.add(MaxPooling1D(2))\n",
        "model.add(Flatten())\n",
        "\n",
        "# LSTM layers\n",
        "model.add(tf.keras.layers.Reshape((640, 1)))\n",
        "model.add(Bidirectional(LSTM(100, return_sequences=True)))\n",
        "model.add(Dropout(0.5))\n",
        "model.add(Bidirectional(LSTM(100, return_sequences=False)))\n",
        "model.add(Dropout(0.5))\n",
        "\n",
        "#Final layers\n",
        "model.add(Dense(3,use_bias=True,bias_initializer=keras.initializers.Constant(1.), activation='linear'))\n",
        "model.compile(optimizer='adam', loss='mse', metrics=['mse', 'mae'])"
      ],
      "metadata": {
        "id": "SD5pHDKFV8ao"
      },
      "execution_count": null,
      "outputs": []
    },
    {
      "cell_type": "code",
      "source": [
        "model = tf.keras.models.Sequential([\n",
        "  tf.keras.layers.Reshape((100, 1)),\n",
        "  tf.keras.layers.Conv1D(\n",
        "    32,\n",
        "    [7],\n",
        "    strides=1,\n",
        "    padding=\"valid\",\n",
        "    activation='relu',\n",
        "    use_bias=True,\n",
        "    bias_initializer=\"zeros\",\n",
        "    ),\n",
        "  tf.keras.layers.Conv1D(\n",
        "    16,\n",
        "    [7],\n",
        "    strides=1,\n",
        "    padding=\"valid\",\n",
        "    activation='relu',\n",
        "    use_bias=True,\n",
        "    bias_initializer=\"zeros\",\n",
        "    ),\n",
        "  tf.keras.layers.MaxPooling1D(\n",
        "    pool_size=3, padding=\"valid\",\n",
        "  ),\n",
        "  tf.keras.layers.Flatten(),\n",
        "  tf.keras.layers.Dense(3,use_bias=True,bias_initializer=keras.initializers.Constant(1.),activation=tf.nn.relu)\n",
        "])\n",
        "#0.35"
      ],
      "metadata": {
        "id": "wJ5IfEf29aUX"
      },
      "execution_count": null,
      "outputs": []
    },
    {
      "cell_type": "code",
      "source": [
        "model = tf.keras.models.Sequential([\n",
        "  tf.keras.layers.Reshape((140, 1)),\n",
        "  tf.keras.layers.LSTM(units=70, return_sequences=True),\n",
        "  tf.keras.layers.LSTM(units=20),\n",
        "  #tf.keras.layers.Dense(64, activation='relu'),\n",
        "  tf.keras.layers.Dense(80, activation='relu'),\n",
        "  tf.keras.layers.Dense(40, use_bias=True, bias_initializer=keras.initializers.Constant(1.), activation='linear')\n",
        "])"
      ],
      "metadata": {
        "id": "IXixIhNcyJLs"
      },
      "execution_count": null,
      "outputs": []
    },
    {
      "cell_type": "code",
      "source": [
        "model.compile(\n",
        "    optimizer=keras.optimizers.SGD(learning_rate=0.01),\n",
        "    loss=keras.losses.BinaryCrossentropy(),\n",
        "    metrics=[tf.keras.metrics.BinaryCrossentropy(), tf.keras.metrics.MeanAbsoluteError()],\n",
        ")"
      ],
      "metadata": {
        "id": "l6BmVCgPw6j6"
      },
      "execution_count": null,
      "outputs": []
    },
    {
      "cell_type": "code",
      "source": [
        "model.fit(train_dataset, epochs=2)"
      ],
      "metadata": {
        "colab": {
          "base_uri": "https://localhost:8080/"
        },
        "id": "1VsGL9QJ9xPr",
        "outputId": "e04a2f65-6d3a-4933-bb99-816d144689e4"
      },
      "execution_count": null,
      "outputs": [
        {
          "output_type": "stream",
          "name": "stdout",
          "text": [
            "Epoch 1/2\n",
            "3125/3125 [==============================] - 22s 3ms/step - loss: -1.6328e-04 - binary_crossentropy: -1.6328e-04 - mean_absolute_error: 0.2020\n",
            "Epoch 2/2\n",
            "3125/3125 [==============================] - 10s 3ms/step - loss: -3.0444e-04 - binary_crossentropy: -3.0444e-04 - mean_absolute_error: 0.2023\n"
          ]
        },
        {
          "output_type": "execute_result",
          "data": {
            "text/plain": [
              "<keras.callbacks.History at 0x7fe11019ca50>"
            ]
          },
          "metadata": {},
          "execution_count": 8
        }
      ]
    },
    {
      "cell_type": "code",
      "source": [
        "print(\"Predict\")\n",
        "#predictions = model.predict(test_dataset)\n",
        "print('',file=open('/content/drive/MyDrive/Colab Notebooks/result_last_1000.txt','w'))\n",
        "i=0\n",
        "for i in range(1000):\n",
        "    if i>100:\n",
        "        break\n",
        "    print(model(np.array(x_test[i:i+1])),'true:',y_test[i:i+1],file=open('/content/drive/MyDrive/Colab Notebooks/result_last_1000.txt','a'))"
      ],
      "metadata": {
        "colab": {
          "base_uri": "https://localhost:8080/"
        },
        "id": "CBsU6vnc-Jtf",
        "outputId": "a397a5d0-7d85-471f-af2d-c34d694203bc"
      },
      "execution_count": null,
      "outputs": [
        {
          "output_type": "stream",
          "name": "stdout",
          "text": [
            "Predict\n"
          ]
        }
      ]
    },
    {
      "cell_type": "code",
      "source": [
        "print(\"Evaluate\")\n",
        "result = model.evaluate(test_dataset)\n",
        "dict(zip(model.metrics_names, result))"
      ],
      "metadata": {
        "colab": {
          "base_uri": "https://localhost:8080/"
        },
        "id": "zFs3s0RkxY4M",
        "outputId": "191cf487-9f1e-404d-f0db-9f1ebdba1671"
      },
      "execution_count": null,
      "outputs": [
        {
          "output_type": "stream",
          "name": "stdout",
          "text": [
            "Evaluate\n",
            "63/63 [==============================] - 0s 3ms/step - loss: -4.1816e-04 - binary_crossentropy: -4.1816e-04 - mean_absolute_error: 0.2023\n"
          ]
        },
        {
          "output_type": "execute_result",
          "data": {
            "text/plain": [
              "{'binary_crossentropy': -0.0004181632830295712,\n",
              " 'loss': -0.0004181632830295712,\n",
              " 'mean_absolute_error': 0.20225484669208527}"
            ]
          },
          "metadata": {},
          "execution_count": 10
        }
      ]
    },
    {
      "cell_type": "code",
      "source": [
        "model.save(\"/content/drive/MyDrive/Colab Notebooks/lstm_forecasting1\")"
      ],
      "metadata": {
        "colab": {
          "base_uri": "https://localhost:8080/"
        },
        "id": "OHqAsUWJ9_Mn",
        "outputId": "07d8993c-e455-4e5b-827a-290db18ce47c"
      },
      "execution_count": null,
      "outputs": [
        {
          "output_type": "stream",
          "name": "stdout",
          "text": [
            "INFO:tensorflow:Assets written to: /content/drive/MyDrive/Colab Notebooks/lstm_forecasting1/assets\n"
          ]
        },
        {
          "output_type": "stream",
          "name": "stderr",
          "text": [
            "INFO:tensorflow:Assets written to: /content/drive/MyDrive/Colab Notebooks/lstm_forecasting1/assets\n"
          ]
        }
      ]
    }
  ]
}